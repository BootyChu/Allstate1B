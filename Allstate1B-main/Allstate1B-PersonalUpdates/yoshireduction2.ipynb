{
  "nbformat": 4,
  "nbformat_minor": 0,
  "metadata": {
    "colab": {
      "provenance": []
    },
    "kernelspec": {
      "name": "python3",
      "display_name": "Python 3"
    },
    "language_info": {
      "name": "python"
    }
  },
  "cells": [
    {
      "cell_type": "code",
      "execution_count": 58,
      "metadata": {
        "id": "aKO7XlYvupJ6"
      },
      "outputs": [],
      "source": [
        "import pandas as pd\n",
        "import numpy as np\n",
        "import xgboost as xgb\n",
        "from sklearn.model_selection import train_test_split\n",
        "from sklearn.metrics import mean_squared_error\n",
        "from sklearn.preprocessing import OneHotEncoder\n",
        "import joblib\n",
        "from sklearn.decomposition import PCA"
      ]
    },
    {
      "cell_type": "markdown",
      "source": [
        "This is a list of our import statements needed if I get rid of most of the redunant / unneeded imports."
      ],
      "metadata": {
        "id": "CGMuOOOxu3FE"
      }
    },
    {
      "cell_type": "code",
      "source": [
        "from google.colab import drive\n",
        "drive.mount('/content/drive')\n",
        "df = pd.read_csv('/content/drive/MyDrive/Allstate1B/claims_data.csv')\n",
        "df.head()\n",
        "df.columns"
      ],
      "metadata": {
        "colab": {
          "base_uri": "https://localhost:8080/"
        },
        "id": "QrVyCWDVu-_L",
        "outputId": "e7be879d-83b2-4df8-a65e-bf6b78ea9b2e"
      },
      "execution_count": 59,
      "outputs": [
        {
          "output_type": "stream",
          "name": "stdout",
          "text": [
            "Drive already mounted at /content/drive; to attempt to forcibly remount, call drive.mount(\"/content/drive\", force_remount=True).\n"
          ]
        },
        {
          "output_type": "execute_result",
          "data": {
            "text/plain": [
              "Index(['id', 'cat1', 'cat2', 'cat3', 'cat4', 'cat5', 'cat6', 'cat7', 'cat8',\n",
              "       'cat9',\n",
              "       ...\n",
              "       'cont6', 'cont7', 'cont8', 'cont9', 'cont10', 'cont11', 'cont12',\n",
              "       'cont13', 'cont14', 'loss'],\n",
              "      dtype='object', length=132)"
            ]
          },
          "metadata": {},
          "execution_count": 59
        }
      ]
    },
    {
      "cell_type": "markdown",
      "source": [
        "We mounted the drive, and read the csv files."
      ],
      "metadata": {
        "id": "fyPIh6JovABS"
      }
    },
    {
      "cell_type": "code",
      "source": [
        "cat_feats = ['cat1', 'cat2', 'cat3', 'cat4', 'cat5', 'cat6', 'cat7', 'cat8', 'cat9']\n",
        "cont_feats = ['cont6', 'cont7', 'cont8', 'cont9', 'cont10', 'cont11', 'cont12', 'cont13', 'cont14']\n",
        "\n",
        "encoder = OneHotEncoder(drop='first', sparse_output=False)\n",
        "df_encoded = encoder.fit_transform(df[cat_feats])\n",
        "df_encoded = pd.DataFrame(df_encoded)"
      ],
      "metadata": {
        "id": "HaTGfbCfvY5S"
      },
      "execution_count": 60,
      "outputs": []
    },
    {
      "cell_type": "markdown",
      "source": [
        "We defined categorical and continuous features, then did a simple one-hot encoding process."
      ],
      "metadata": {
        "id": "Oz8wiSiEvcl1"
      }
    },
    {
      "cell_type": "code",
      "source": [
        "df_numeric = df[cont_feats]\n",
        "df_combined = pd.concat([df_numeric, df_encoded], axis=1)\n",
        "df_combined['loss'] = df['loss']\n",
        "threshold_continuous = 0.45  # For continuous variables\n",
        "threshold_categorical = 0.30  # For categorical variables\n",
        "correlation_matrix = df_combined.corr()"
      ],
      "metadata": {
        "id": "OPL6-pBavlH4"
      },
      "execution_count": 61,
      "outputs": []
    },
    {
      "cell_type": "markdown",
      "source": [
        "Combine continuous and encoded categorical features."
      ],
      "metadata": {
        "id": "ETE6BBkGvnS0"
      }
    },
    {
      "cell_type": "code",
      "source": [
        "selected_continuous_features = correlation_matrix.loc[cont_feats, 'loss'].abs()\n",
        "selected_continuous_features = selected_continuous_features[selected_continuous_features > threshold_continuous].index.tolist()\n",
        "\n",
        "selected_categorical_features = correlation_matrix.loc[df_encoded.columns, 'loss'].abs()\n",
        "selected_categorical_features = selected_categorical_features[selected_categorical_features > threshold_categorical].index.tolist()\n",
        "\n",
        "selected_features = selected_continuous_features + selected_categorical_features"
      ],
      "metadata": {
        "id": "_V4BKecNvpyF"
      },
      "execution_count": 62,
      "outputs": []
    },
    {
      "cell_type": "markdown",
      "source": [
        "Selected features with correlation above our experimental correlation threshold value."
      ],
      "metadata": {
        "id": "WVEL9evPvswC"
      }
    },
    {
      "cell_type": "code",
      "source": [
        "df_selected = df_combined[selected_features + ['loss']]\n",
        "\n",
        "X = df_selected.drop('loss', axis=1)\n",
        "y = df_selected['loss']"
      ],
      "metadata": {
        "id": "WKrrPKRav0zH"
      },
      "execution_count": 63,
      "outputs": []
    },
    {
      "cell_type": "markdown",
      "source": [
        "Create a DataFrame with selected features and target variable, 'loss'."
      ],
      "metadata": {
        "id": "xSP4Kigcv3V0"
      }
    },
    {
      "cell_type": "code",
      "source": [
        "X_train, X_test, y_train, y_test = joblib.load('/content/drive/MyDrive/Allstate1B/Code/train_test_split.joblib')"
      ],
      "metadata": {
        "id": "DUBPvomJv6xE"
      },
      "execution_count": 64,
      "outputs": []
    },
    {
      "cell_type": "code",
      "source": [
        "model = xgb.XGBRegressor(n_estimators=125, learning_rate=0.05, eval_metric='rmse')"
      ],
      "metadata": {
        "id": "q-ztZWa-wAPH"
      },
      "execution_count": 65,
      "outputs": []
    },
    {
      "cell_type": "markdown",
      "source": [
        "very basic xgboost model."
      ],
      "metadata": {
        "id": "OlfR-0MewCV7"
      }
    },
    {
      "cell_type": "code",
      "source": [
        "model.fit(X_train, y_train)\n",
        "\n",
        "y_pred = model.predict(X_test)"
      ],
      "metadata": {
        "id": "ZzGKDyd-wFIY"
      },
      "execution_count": 66,
      "outputs": []
    },
    {
      "cell_type": "code",
      "source": [
        "mse = mean_squared_error(y_test, y_pred)\n",
        "variance = y_test.var()\n",
        "normalized_mse = mse / variance\n",
        "\n",
        "print(f\"Mean Squared Error: {mse}\")\n",
        "print(f\"Normalized Mean Squared Error: {normalized_mse}\")"
      ],
      "metadata": {
        "colab": {
          "base_uri": "https://localhost:8080/"
        },
        "id": "GJzEtRCTwHnY",
        "outputId": "cf003eb2-d3d9-4884-d330-1b2e064e038c"
      },
      "execution_count": 67,
      "outputs": [
        {
          "output_type": "stream",
          "name": "stdout",
          "text": [
            "Mean Squared Error: 5833675.980940211\n",
            "Normalized Mean Squared Error: 0.7149273562837057\n"
          ]
        }
      ]
    },
    {
      "cell_type": "code",
      "source": [
        "from sklearn.model_selection import RandomizedSearchCV\n",
        "from scipy.stats import uniform, randint\n",
        "\n",
        "# Define the parameter grid for Randomized Search\n",
        "param_dist = {\n",
        "    'n_estimators': randint(100, 1000),\n",
        "    'learning_rate': uniform(0.01, 0.2),\n",
        "    'max_depth': randint(3, 10),\n",
        "    'subsample': uniform(0.5, 1.0),\n",
        "    'colsample_bytree': uniform(0.5, 1.0)\n",
        "}\n",
        "\n",
        "# Initialize RandomizedSearchCV\n",
        "random_search = RandomizedSearchCV(\n",
        "    estimator=xgb.XGBRegressor(),\n",
        "    param_distributions=param_dist,\n",
        "    n_iter=50,  # Number of different combinations to try\n",
        "    scoring='neg_mean_squared_error',\n",
        "    cv=3,  # 3-fold cross-validation\n",
        "    verbose=1,\n",
        "    random_state=42,\n",
        "    n_jobs=-1  # Use all available cores\n",
        ")\n",
        "\n",
        "# Fit RandomizedSearchCV to find the best model\n",
        "random_search.fit(X_train, y_train)\n",
        "\n",
        "# Get the best parameters from the search\n",
        "print(f\"Best Parameters: {random_search.best_params_}\")\n",
        "\n",
        "# Make predictions using the best estimator\n",
        "best_model = random_search.best_estimator_\n",
        "y_pred = best_model.predict(X_test)\n",
        "\n",
        "# Evaluate the model using Mean Squared Error (MSE)\n",
        "mse = mean_squared_error(y_test, y_pred)\n",
        "print(f\"Mean Squared Error after tuning: {mse}\")"
      ],
      "metadata": {
        "colab": {
          "base_uri": "https://localhost:8080/"
        },
        "id": "AXYm6bv3zAeU",
        "outputId": "e5a8c989-7ac5-4c01-8a4a-dd70d1e23afe"
      },
      "execution_count": null,
      "outputs": [
        {
          "output_type": "stream",
          "name": "stdout",
          "text": [
            "Fitting 3 folds for each of 50 candidates, totalling 150 fits\n"
          ]
        }
      ]
    }
  ]
}